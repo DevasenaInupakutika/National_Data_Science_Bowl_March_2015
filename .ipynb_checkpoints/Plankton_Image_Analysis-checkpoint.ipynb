{
 "metadata": {
  "name": "",
  "signature": "sha256:75cebe99b1e04ce1941397841aeb24e52a7d65994090853cff651c2cf01ade47"
 },
 "nbformat": 3,
 "nbformat_minor": 0,
 "worksheets": [
  {
   "cells": [
    {
     "cell_type": "code",
     "collapsed": false,
     "input": [
      "#Import libraries for doing image analysis\n",
      "from skimage.io import imread\n",
      "from skimage.transform import resize\n",
      "from sklearn.ensemble import RandomForestClassifier as RF\n",
      "import glob\n",
      "import os\n",
      "from sklearn import cross_validation\n",
      "from sklearn.cross_validation import StratifiedKFold as KFold\n",
      "from sklearn.metrics import classification_report\n",
      "from matplotlib import pyplot as plt\n",
      "from matplotlib import colors\n",
      "from pylab import cm\n",
      "from skimage import segmentation\n",
      "from skimage.morphology import watershed\n",
      "from skimage import measure\n",
      "from skimage import morphology\n",
      "import numpy as np\n",
      "import pandas as pd\n",
      "from scipy import ndimage\n",
      "from skimage.feature import peak_local_max\n",
      "# make graphics inline\n",
      "%matplotlib inline\n"
     ],
     "language": "python",
     "metadata": {},
     "outputs": []
    },
    {
     "cell_type": "code",
     "collapsed": false,
     "input": [
      "import warnings\n",
      "warnings.filterwarnings(\"ignore\")"
     ],
     "language": "python",
     "metadata": {},
     "outputs": []
    },
    {
     "cell_type": "code",
     "collapsed": false,
     "input": [
      "# get the classnames from the directory structure\n",
      "directory_names = list(set(glob.glob(os.path.join(\"\",\"train\", \"*\"))).difference(set(glob.glob(os.path.join(\"\",\"train\",\"*.*\")))))"
     ],
     "language": "python",
     "metadata": {},
     "outputs": []
    },
    {
     "cell_type": "code",
     "collapsed": false,
     "input": [
      "# Example image\n",
      "# This example was chosen for because it has two noncontinguous pieces\n",
      "# that will make the segmentation example more illustrative\n",
      "example_file = glob.glob(os.path.join(directory_names[5],\"*.jpg\"))[9]\n",
      "print example_file\n",
      "im = imread(example_file, as_grey=True)\n",
      "plt.imshow(im, cmap=cm.gray)\n",
      "plt.show()\n"
     ],
     "language": "python",
     "metadata": {},
     "outputs": []
    },
    {
     "cell_type": "code",
     "collapsed": false,
     "input": [
      "#Preparation of images in order to create features of interest after removing noise and performing segmentation of images"
     ],
     "language": "python",
     "metadata": {},
     "outputs": []
    },
    {
     "cell_type": "code",
     "collapsed": false,
     "input": [
      "# First we threshold the image by only taking values greater than the mean to reduce noise in the image\n",
      "# to use later as a mask\n",
      "f = plt.figure(figsize=(12,3))\n",
      "imthr = im.copy()\n",
      "imthr = np.where(im > np.mean(im),0.,1.0)\n",
      "sub1 = plt.subplot(1,4,1)\n",
      "plt.imshow(im, cmap=cm.gray)\n",
      "sub1.set_title(\"Original Image\")\n",
      "\n",
      "sub2 = plt.subplot(1,4,2)\n",
      "plt.imshow(imthr, cmap=cm.gray_r)\n",
      "sub2.set_title(\"Thresholded Image\")\n",
      "\n",
      "imdilated = morphology.dilation(imthr, np.ones((4,4)))\n",
      "sub3 = plt.subplot(1, 4, 3)\n",
      "plt.imshow(imdilated, cmap=cm.gray_r)\n",
      "sub3.set_title(\"Dilated Image\")\n",
      "\n",
      "labels = morphology.label(imdilated)\n",
      "labels = imthr*labels\n",
      "labels = labels.astype(int)\n",
      "sub4 = plt.subplot(1, 4, 4)\n",
      "sub4.set_title(\"Labeled Image\")\n",
      "plt.imshow(labels)"
     ],
     "language": "python",
     "metadata": {},
     "outputs": []
    },
    {
     "cell_type": "code",
     "collapsed": false,
     "input": [
      "# calculate common region properties for each region within the segmentation\n",
      "regions = measure.regionprops(labels)\n",
      "# find the largest nonzero region\n",
      "def getLargestRegion(props=regions, labelmap=labels, imagethres=imthr):\n",
      "    regionmaxprop = None\n",
      "    for regionprop in props:\n",
      "        # check to see if the region is at least 50% nonzero\n",
      "        if sum(imagethres[labelmap == regionprop.label])*1.0/regionprop.area < 0.50:\n",
      "            continue\n",
      "        if regionmaxprop is None:\n",
      "            regionmaxprop = regionprop\n",
      "        if regionmaxprop.filled_area < regionprop.filled_area:\n",
      "            regionmaxprop = regionprop\n",
      "    return regionmaxprop"
     ],
     "language": "python",
     "metadata": {},
     "outputs": []
    },
    {
     "cell_type": "code",
     "collapsed": false,
     "input": [
      "regionmax = getLargestRegion()\n",
      "plt.imshow(np.where(labels == regionmax.label,1.0,0.0))\n",
      "plt.show()"
     ],
     "language": "python",
     "metadata": {},
     "outputs": []
    },
    {
     "cell_type": "code",
     "collapsed": false,
     "input": [
      "print regionmax.minor_axis_length/regionmax.major_axis_length"
     ],
     "language": "python",
     "metadata": {},
     "outputs": []
    },
    {
     "cell_type": "code",
     "collapsed": false,
     "input": [
      "#Putting everything in function so that repeatable blocks can be efficiently used\n",
      "\n",
      "def getMinorMajorRatio(image):\n",
      "    image = image.copy()\n",
      "    # Create the thresholded image to eliminate some of the background\n",
      "    imagethr = np.where(image > np.mean(image),0.,1.0)\n",
      "\n",
      "    #Dilate the image\n",
      "    imdilated = morphology.dilation(imagethr, np.ones((4,4)))\n",
      "\n",
      "    # Create the label list\n",
      "    label_list = morphology.label(imdilated)\n",
      "    label_list = imagethr*label_list\n",
      "    label_list = label_list.astype(int)\n",
      "    \n",
      "    region_list = measure.regionprops(label_list)\n",
      "    maxregion = getLargestRegion(region_list, label_list, imagethr)\n",
      "    \n",
      "    # guard against cases where the segmentation fails by providing zeros\n",
      "    ratio = 0.0\n",
      "    if ((not maxregion is None) and  (maxregion.major_axis_length != 0.0)):\n",
      "        ratio = 0.0 if maxregion is None else  maxregion.minor_axis_length*1.0 / maxregion.major_axis_length\n",
      "    return ratio"
     ],
     "language": "python",
     "metadata": {},
     "outputs": []
    },
    {
     "cell_type": "code",
     "collapsed": false,
     "input": [
      "#Using the function created above to calculate ratio and result on \"im\" image is same as performing with seperate blocks of code\n",
      "getMinorMajorRatio(im)"
     ],
     "language": "python",
     "metadata": {},
     "outputs": [
      {
       "metadata": {},
       "output_type": "pyout",
       "prompt_number": 44,
       "text": [
        "0.44380292645842667"
       ]
      }
     ],
     "prompt_number": 44
    },
    {
     "cell_type": "code",
     "collapsed": false,
     "input": [],
     "language": "python",
     "metadata": {},
     "outputs": []
    },
    {
     "cell_type": "code",
     "collapsed": false,
     "input": [],
     "language": "python",
     "metadata": {},
     "outputs": []
    }
   ],
   "metadata": {}
  }
 ]
}